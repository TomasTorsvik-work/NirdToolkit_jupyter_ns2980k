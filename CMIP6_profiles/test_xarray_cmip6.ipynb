{
 "cells": [
  {
   "cell_type": "markdown",
   "metadata": {},
   "source": [
    "# Test xarray on CMIP6 dataset\n",
    "\n",
    "1. Import o2 dataset from multiple files as a xarray.Dataset object\n",
    "2. Define point coordinates and find nearest corresponding grid point\n",
    "3. Extract subset of o2 dataset for grid point\n",
    "4. Plot o2 values: time vs. depth with o2 color scale"
   ]
  },
  {
   "cell_type": "code",
   "execution_count": 1,
   "metadata": {},
   "outputs": [],
   "source": [
    "%matplotlib inline\n",
    "from matplotlib import pyplot as plt"
   ]
  },
  {
   "cell_type": "code",
   "execution_count": 2,
   "metadata": {},
   "outputs": [],
   "source": [
    "import xarray as xr\n",
    "import numpy as np"
   ]
  },
  {
   "cell_type": "code",
   "execution_count": 3,
   "metadata": {},
   "outputs": [],
   "source": [
    "from geopy import distance"
   ]
  },
  {
   "cell_type": "markdown",
   "metadata": {},
   "source": [
    "# 1. Import data as a xarray.Dataset object"
   ]
  },
  {
   "cell_type": "code",
   "execution_count": 4,
   "metadata": {},
   "outputs": [],
   "source": [
    "## Monthly historical NorESM2-LM 'o2' or 'co3' files\n",
    "#input_files = './data/NTK-data/modeldata/ETHZ_CMIP6/historical/Omon/o2/NorESM2-LM/r1i1p1f1/o2_Omon_NorESM2-LM_historical_r1i1p1f1_gr_*.nc'\n",
    "#input_files = './data/NTK-data/modeldata/ETHZ_CMIP6/historical/Omon/co3/NorESM2-LM/r1i1p1f1/co3_Omon_NorESM2-LM_historical_r1i1p1f1_gr_*.nc'\n",
    "#dset = xr.open_mfdataset(input_files, combine='by_coords')\n",
    "#title_label = 'hist'\n",
    "\n",
    "## Yearly \"historical + SSP###\" NorESM-LM files \n",
    "input_files_hist = './data/NTK-data/modeldata/ETHZ_CMIP6/historical/Oyr/o2/NorESM2-LM/r1i1p1f1/o2_Oyr_NorESM2-LM_historical_r1i1p1f1_gr_*.nc'\n",
    "#input_files_hist = './data/NTK-data/modeldata/ETHZ_CMIP6/historical/Oyr/ph/NorESM2-LM/r1i1p1f1/ph_Oyr_NorESM2-LM_historical_r1i1p1f1_gr_*.nc'\n",
    "dset_hist = xr.open_mfdataset(input_files_hist, combine='by_coords')\n",
    "\n",
    "#input_files_ssp126 = './data/NTK-data/modeldata/ETHZ_CMIP6/ssp126/Oyr/o2/NorESM2-LM/r1i1p1f1/o2_Oyr_NorESM2-LM_ssp126_r1i1p1f1_gr_*.nc'\n",
    "#input_files_ssp126 = './data/NTK-data/modeldata/ETHZ_CMIP6/ssp126/Oyr/ph/NorESM2-LM/r1i1p1f1/ph_Oyr_NorESM2-LM_ssp126_r1i1p1f1_gr_*.nc'\n",
    "#dset_ssp126 = xr.open_mfdataset(input_files_ssp126, combine='by_coords')\n",
    "#dset = xr.combine_by_coords([ dset_hist , dset_ssp126])\n",
    "#title_label = 'hist+ssp126'\n",
    "\n",
    "input_files_ssp585 = './data/NTK-data/modeldata/ETHZ_CMIP6/ssp585/Oyr/o2/NorESM2-LM/r1i1p1f1/o2_Oyr_NorESM2-LM_ssp585_r1i1p1f1_gr_*.nc'\n",
    "#input_files_ssp585 = './data/NTK-data/modeldata/ETHZ_CMIP6/ssp585/Oyr/ph/NorESM2-LM/r1i1p1f1/ph_Oyr_NorESM2-LM_ssp585_r1i1p1f1_gr_*.nc'\n",
    "dset_ssp585 = xr.open_mfdataset(input_files_ssp585, combine='by_coords')\n",
    "dset = xr.combine_by_coords([ dset_hist , dset_ssp585])\n",
    "title_label = 'hist+ssp585'\n",
    "\n",
    "dset.attrs = dset_hist.attrs"
   ]
  },
  {
   "cell_type": "markdown",
   "metadata": {},
   "source": [
    "### Print out info about the dataset"
   ]
  },
  {
   "cell_type": "code",
   "execution_count": 5,
   "metadata": {},
   "outputs": [
    {
     "data": {
      "text/plain": [
       "<bound method Dataset.info of <xarray.Dataset>\n",
       "Dimensions:             (bnds: 2, i: 360, j: 385, lev: 70, time: 251, vertices: 4)\n",
       "Coordinates:\n",
       "    longitude           (j, i) float64 dask.array<chunksize=(385, 360), meta=np.ndarray>\n",
       "    latitude            (j, i) float64 dask.array<chunksize=(385, 360), meta=np.ndarray>\n",
       "  * lev                 (lev) float64 0.0 5.0 10.0 ... 6.25e+03 6.5e+03 6.75e+03\n",
       "  * j                   (j) int32 1 2 3 4 5 6 7 ... 379 380 381 382 383 384 385\n",
       "  * i                   (i) int32 1 2 3 4 5 6 7 ... 354 355 356 357 358 359 360\n",
       "  * time                (time) object 1850-07-02 12:00:00 ... 2100-07-02 12:00:00\n",
       "Dimensions without coordinates: bnds, vertices\n",
       "Data variables:\n",
       "    time_bnds           (time, bnds) object dask.array<chunksize=(10, 2), meta=np.ndarray>\n",
       "    lev_bnds            (time, lev, bnds) float64 dask.array<chunksize=(10, 70, 2), meta=np.ndarray>\n",
       "    vertices_latitude   (time, j, i, vertices) float64 dask.array<chunksize=(10, 385, 360, 4), meta=np.ndarray>\n",
       "    vertices_longitude  (time, j, i, vertices) float64 dask.array<chunksize=(10, 385, 360, 4), meta=np.ndarray>\n",
       "    o2                  (time, lev, j, i) float32 dask.array<chunksize=(10, 70, 385, 360), meta=np.ndarray>\n",
       "Attributes:\n",
       "    Conventions:               CF-1.7 CMIP-6.2\n",
       "    activity_id:               CMIP\n",
       "    branch_method:             Hybrid-restart from year 1600-01-01 of piControl\n",
       "    branch_time:               0.0\n",
       "    branch_time_in_child:      0.0\n",
       "    branch_time_in_parent:     430335.0\n",
       "    contact:                   Please send any requests or bug reports to nor...\n",
       "    creation_date:             2019-08-15T18:37:54Z\n",
       "    data_specs_version:        01.00.31\n",
       "    experiment:                all-forcing simulation of the recent past\n",
       "    experiment_id:             historical\n",
       "    external_variables:        areacello volcello\n",
       "    forcing_index:             1\n",
       "    frequency:                 yr\n",
       "    further_info_url:          https://furtherinfo.es-doc.org/CMIP6.NCC.NorES...\n",
       "    grid:                      tripolar grid with 1deg nominal resolution, in...\n",
       "    grid_label:                gr\n",
       "    history:                   2019-08-15T18:37:54Z ; CMOR rewrote data to be...\n",
       "    initialization_index:      1\n",
       "    institution:               NorESM Climate modeling Consortium consisting ...\n",
       "    institution_id:            NCC\n",
       "    mip_era:                   CMIP6\n",
       "    model_id:                  NorESM2-LM\n",
       "    nominal_resolution:        100 km\n",
       "    parent_activity_id:        CMIP\n",
       "    parent_experiment_id:      piControl\n",
       "    parent_mip_era:            CMIP6\n",
       "    parent_source_id:          NorESM2-LM\n",
       "    parent_sub_experiment_id:  none\n",
       "    parent_time_units:         days since 0421-01-01\n",
       "    parent_variant_label:      r1i1p1f1\n",
       "    physics_index:             1\n",
       "    product:                   model-output\n",
       "    realization_index:         1\n",
       "    realm:                     ocnBgchem\n",
       "    run_variant:               N/A\n",
       "    source:                    NorESM2-LM (2017): \\naerosol: OsloAero\\natmos:...\n",
       "    source_id:                 NorESM2-LM\n",
       "    source_type:               AOGCM\n",
       "    sub_experiment:            none\n",
       "    sub_experiment_id:         none\n",
       "    table_id:                  Oyr\n",
       "    table_info:                Creation Date:(24 July 2019) MD5:08e314340b9dd...\n",
       "    title:                     NorESM2-LM output prepared for CMIP6\n",
       "    variable_id:               o2\n",
       "    variant_label:             r1i1p1f1\n",
       "    license:                   CMIP6 model data produced by NCC is licensed u...\n",
       "    cmor_version:              3.5.0\n",
       "    tracking_id:               hdl:21.14100/30237343-385c-4dc2-979e-0f9d9c79e3a1>"
      ]
     },
     "execution_count": 5,
     "metadata": {},
     "output_type": "execute_result"
    }
   ],
   "source": [
    "dset.info"
   ]
  },
  {
   "cell_type": "markdown",
   "metadata": {},
   "source": [
    "### Attributes of main variable"
   ]
  },
  {
   "cell_type": "code",
   "execution_count": 6,
   "metadata": {},
   "outputs": [
    {
     "data": {
      "text/plain": [
       "{'standard_name': 'mole_concentration_of_dissolved_molecular_oxygen_in_sea_water',\n",
       " 'long_name': 'Dissolved Oxygen Concentration',\n",
       " 'comment': \"'Mole concentration' means number of moles per unit volume, also called 'molarity', and is used in the construction mole_concentration_of_X_in_Y, where X is a material constituent of Y.  A chemical or biological species denoted by X may be described by a single term such as 'nitrogen' or a phrase such as 'nox_expressed_as_nitrogen'.\",\n",
       " 'units': 'mol m-3',\n",
       " 'original_name': 'o2lvl',\n",
       " 'cell_methods': 'area: mean where sea time: mean',\n",
       " 'cell_measures': 'area: areacello volume: volcello',\n",
       " 'history': \"2019-08-15T18:37:54Z altered by CMOR: Converted type from 'd' to 'f'.\"}"
      ]
     },
     "execution_count": 6,
     "metadata": {},
     "output_type": "execute_result"
    }
   ],
   "source": [
    "eval('dset.' + dset.attrs['variable_id'] + '.attrs')"
   ]
  },
  {
   "cell_type": "markdown",
   "metadata": {},
   "source": [
    "## 2. Define point coordinate and find nearest grid point"
   ]
  },
  {
   "cell_type": "markdown",
   "metadata": {},
   "source": [
    "The test point at 23.0 degrees South and 12 degrees East is in the Benguela current, close to strong upwelling cells of the Benguela upwelling system. Calculate distances only for grid coordinates inside [lat_bbox,lon_bbox] region around ref_point.\n",
    "\n",
    "The reference point is compared with (lat,lon) grid coordinates within the bounding box, using the distance function from geopy to identify the nearest one. The distance matrix is initialized with the same size as the (lat,lon) coordinate matrices, and a value expected to be larger than the minimum distance we want to find."
   ]
  },
  {
   "cell_type": "code",
   "execution_count": 7,
   "metadata": {},
   "outputs": [],
   "source": [
    "ref_point = (-23.0, 12.0)\n",
    "[lat_bbox, lon_bbox] = [2.0, 2.0]"
   ]
  },
  {
   "cell_type": "markdown",
   "metadata": {},
   "source": [
    "Extract latitude and longitude grid coordinates as pandas dataframes, for comparison with reference point."
   ]
  },
  {
   "cell_type": "code",
   "execution_count": 8,
   "metadata": {},
   "outputs": [],
   "source": [
    "lat = dset.latitude.to_pandas()\n",
    "lon = dset.longitude.to_pandas()\n",
    "dist = np.ones((dset.j.size, dset.i.size)) * 1.e6"
   ]
  },
  {
   "cell_type": "code",
   "execution_count": 9,
   "metadata": {},
   "outputs": [],
   "source": [
    "for j in np.arange(dset.j.size):\n",
    "    for i in np.arange(dset.i.size):\n",
    "        if abs(lat.iloc[j,i] - ref_point[0]) < lat_bbox and \\\n",
    "        abs(lon.iloc[j,i] - ref_point[1]) < lon_bbox :\n",
    "            grid_point = (lat.iloc[j,i], lon.iloc[j,i])\n",
    "            dist[j,i] = distance.distance(ref_point, grid_point).km"
   ]
  },
  {
   "cell_type": "markdown",
   "metadata": {},
   "source": [
    "The (j,i) indices corresponding to the minimum distance between a grid point and the reference point must be shifted by 1 to get the (j,i) table values, because python arrays start at [0,0] whereas the table values start at [1,1]."
   ]
  },
  {
   "cell_type": "code",
   "execution_count": 10,
   "metadata": {},
   "outputs": [
    {
     "name": "stdout",
     "output_type": "stream",
     "text": [
      "Nearest grid point is  57.53793866745897  km from ref_point, with (j,i) indices  [117] ,  [121]  and values  118 , 122\n"
     ]
    }
   ],
   "source": [
    "(j_index, i_index) = np.where(dist == dist.min())\n",
    "j_value = j_index[0] + 1\n",
    "i_value = i_index[0] + 1\n",
    "print('Nearest grid point is ', dist.min(), ' km from ref_point, with (j,i) indices ', j_index, ', ', i_index, ' and values ', j_value, ',', i_value )"
   ]
  },
  {
   "cell_type": "code",
   "execution_count": 11,
   "metadata": {},
   "outputs": [
    {
     "name": "stdout",
     "output_type": "stream",
     "text": [
      "Nearest grid point is located at ( -23.236760218711662 , 11.500000000000028 )\n"
     ]
    }
   ],
   "source": [
    "[lat_grd, lon_grd] = [lat.loc[j_value,i_value], lon.loc[j_value,i_value]]\n",
    "print('Nearest grid point is located at (', lat_grd, ',', lon_grd, ')')"
   ]
  },
  {
   "cell_type": "markdown",
   "metadata": {},
   "source": [
    "# 3. Extract subset of o2 dataset"
   ]
  },
  {
   "cell_type": "code",
   "execution_count": 12,
   "metadata": {},
   "outputs": [],
   "source": [
    "subset = dset.sel(j=j_value, i=i_value)"
   ]
  },
  {
   "cell_type": "code",
   "execution_count": 13,
   "metadata": {},
   "outputs": [
    {
     "data": {
      "text/plain": [
       "Data variables:\n",
       "    time_bnds           (time, bnds) object dask.array<chunksize=(10, 2), meta=np.ndarray>\n",
       "    lev_bnds            (time, lev, bnds) float64 dask.array<chunksize=(10, 70, 2), meta=np.ndarray>\n",
       "    vertices_latitude   (time, vertices) float64 dask.array<chunksize=(10, 4), meta=np.ndarray>\n",
       "    vertices_longitude  (time, vertices) float64 dask.array<chunksize=(10, 4), meta=np.ndarray>\n",
       "    o2                  (time, lev) float32 dask.array<chunksize=(10, 70), meta=np.ndarray>"
      ]
     },
     "execution_count": 13,
     "metadata": {},
     "output_type": "execute_result"
    }
   ],
   "source": [
    "subset.data_vars"
   ]
  },
  {
   "cell_type": "markdown",
   "metadata": {},
   "source": [
    "Convert the time variable from 'cftime' format used by xarray to 'datetime' format that can be used by matplotlib."
   ]
  },
  {
   "cell_type": "code",
   "execution_count": 14,
   "metadata": {},
   "outputs": [
    {
     "name": "stderr",
     "output_type": "stream",
     "text": [
      "/opt/conda/lib/python3.7/site-packages/ipykernel_launcher.py:1: RuntimeWarning: Converting a CFTimeIndex with dates from a non-standard calendar, 'noleap', to a pandas.DatetimeIndex, which uses dates from the standard calendar.  This may lead to subtle errors in operations that depend on the length of time between dates.\n",
      "  \"\"\"Entry point for launching an IPython kernel.\n"
     ]
    }
   ],
   "source": [
    "datetimeindex = subset.indexes['time'].to_datetimeindex()\n",
    "subset['time'] = datetimeindex"
   ]
  },
  {
   "cell_type": "code",
   "execution_count": 15,
   "metadata": {},
   "outputs": [],
   "source": [
    "data = eval('subset.' + dset.attrs['variable_id'] + '.to_pandas()')"
   ]
  },
  {
   "cell_type": "code",
   "execution_count": 16,
   "metadata": {},
   "outputs": [],
   "source": [
    "data = data.swapaxes(0,1)"
   ]
  },
  {
   "cell_type": "code",
   "execution_count": 17,
   "metadata": {},
   "outputs": [
    {
     "data": {
      "text/html": [
       "<div>\n",
       "<style scoped>\n",
       "    .dataframe tbody tr th:only-of-type {\n",
       "        vertical-align: middle;\n",
       "    }\n",
       "\n",
       "    .dataframe tbody tr th {\n",
       "        vertical-align: top;\n",
       "    }\n",
       "\n",
       "    .dataframe thead th {\n",
       "        text-align: right;\n",
       "    }\n",
       "</style>\n",
       "<table border=\"1\" class=\"dataframe\">\n",
       "  <thead>\n",
       "    <tr style=\"text-align: right;\">\n",
       "      <th>time</th>\n",
       "      <th>1850-07-02 12:00:00</th>\n",
       "      <th>1851-07-02 12:00:00</th>\n",
       "      <th>1852-07-02 12:00:00</th>\n",
       "      <th>1853-07-02 12:00:00</th>\n",
       "      <th>1854-07-02 12:00:00</th>\n",
       "      <th>1855-07-02 12:00:00</th>\n",
       "      <th>1856-07-02 12:00:00</th>\n",
       "      <th>1857-07-02 12:00:00</th>\n",
       "      <th>1858-07-02 12:00:00</th>\n",
       "      <th>1859-07-02 12:00:00</th>\n",
       "      <th>...</th>\n",
       "      <th>2091-07-02 12:00:00</th>\n",
       "      <th>2092-07-02 12:00:00</th>\n",
       "      <th>2093-07-02 12:00:00</th>\n",
       "      <th>2094-07-02 12:00:00</th>\n",
       "      <th>2095-07-02 12:00:00</th>\n",
       "      <th>2096-07-02 12:00:00</th>\n",
       "      <th>2097-07-02 12:00:00</th>\n",
       "      <th>2098-07-02 12:00:00</th>\n",
       "      <th>2099-07-02 12:00:00</th>\n",
       "      <th>2100-07-02 12:00:00</th>\n",
       "    </tr>\n",
       "    <tr>\n",
       "      <th>lev</th>\n",
       "      <th></th>\n",
       "      <th></th>\n",
       "      <th></th>\n",
       "      <th></th>\n",
       "      <th></th>\n",
       "      <th></th>\n",
       "      <th></th>\n",
       "      <th></th>\n",
       "      <th></th>\n",
       "      <th></th>\n",
       "      <th></th>\n",
       "      <th></th>\n",
       "      <th></th>\n",
       "      <th></th>\n",
       "      <th></th>\n",
       "      <th></th>\n",
       "      <th></th>\n",
       "      <th></th>\n",
       "      <th></th>\n",
       "      <th></th>\n",
       "      <th></th>\n",
       "    </tr>\n",
       "  </thead>\n",
       "  <tbody>\n",
       "    <tr>\n",
       "      <th>0.0</th>\n",
       "      <td>0.218279</td>\n",
       "      <td>0.218734</td>\n",
       "      <td>0.221627</td>\n",
       "      <td>0.219263</td>\n",
       "      <td>0.218321</td>\n",
       "      <td>0.220219</td>\n",
       "      <td>0.222653</td>\n",
       "      <td>0.218416</td>\n",
       "      <td>0.217871</td>\n",
       "      <td>0.220521</td>\n",
       "      <td>...</td>\n",
       "      <td>0.211226</td>\n",
       "      <td>0.213183</td>\n",
       "      <td>0.212403</td>\n",
       "      <td>0.211265</td>\n",
       "      <td>0.210519</td>\n",
       "      <td>0.212110</td>\n",
       "      <td>0.213068</td>\n",
       "      <td>0.209254</td>\n",
       "      <td>0.212315</td>\n",
       "      <td>0.210894</td>\n",
       "    </tr>\n",
       "    <tr>\n",
       "      <th>5.0</th>\n",
       "      <td>0.218355</td>\n",
       "      <td>0.218743</td>\n",
       "      <td>0.221662</td>\n",
       "      <td>0.219331</td>\n",
       "      <td>0.218320</td>\n",
       "      <td>0.220305</td>\n",
       "      <td>0.222679</td>\n",
       "      <td>0.218475</td>\n",
       "      <td>0.217950</td>\n",
       "      <td>0.220570</td>\n",
       "      <td>...</td>\n",
       "      <td>0.211269</td>\n",
       "      <td>0.213195</td>\n",
       "      <td>0.212419</td>\n",
       "      <td>0.211288</td>\n",
       "      <td>0.210560</td>\n",
       "      <td>0.212141</td>\n",
       "      <td>0.213148</td>\n",
       "      <td>0.209387</td>\n",
       "      <td>0.212345</td>\n",
       "      <td>0.210942</td>\n",
       "    </tr>\n",
       "    <tr>\n",
       "      <th>10.0</th>\n",
       "      <td>0.218215</td>\n",
       "      <td>0.218527</td>\n",
       "      <td>0.221475</td>\n",
       "      <td>0.219214</td>\n",
       "      <td>0.218090</td>\n",
       "      <td>0.220156</td>\n",
       "      <td>0.222511</td>\n",
       "      <td>0.218373</td>\n",
       "      <td>0.217870</td>\n",
       "      <td>0.220422</td>\n",
       "      <td>...</td>\n",
       "      <td>0.211134</td>\n",
       "      <td>0.213016</td>\n",
       "      <td>0.212286</td>\n",
       "      <td>0.211084</td>\n",
       "      <td>0.210435</td>\n",
       "      <td>0.211963</td>\n",
       "      <td>0.213082</td>\n",
       "      <td>0.209561</td>\n",
       "      <td>0.212121</td>\n",
       "      <td>0.210806</td>\n",
       "    </tr>\n",
       "    <tr>\n",
       "      <th>15.0</th>\n",
       "      <td>0.217955</td>\n",
       "      <td>0.218368</td>\n",
       "      <td>0.221162</td>\n",
       "      <td>0.219128</td>\n",
       "      <td>0.217814</td>\n",
       "      <td>0.219988</td>\n",
       "      <td>0.222407</td>\n",
       "      <td>0.218276</td>\n",
       "      <td>0.217754</td>\n",
       "      <td>0.220300</td>\n",
       "      <td>...</td>\n",
       "      <td>0.211040</td>\n",
       "      <td>0.212839</td>\n",
       "      <td>0.212206</td>\n",
       "      <td>0.210902</td>\n",
       "      <td>0.210322</td>\n",
       "      <td>0.211860</td>\n",
       "      <td>0.212991</td>\n",
       "      <td>0.209823</td>\n",
       "      <td>0.211992</td>\n",
       "      <td>0.210731</td>\n",
       "    </tr>\n",
       "    <tr>\n",
       "      <th>20.0</th>\n",
       "      <td>0.217608</td>\n",
       "      <td>0.217843</td>\n",
       "      <td>0.220856</td>\n",
       "      <td>0.218966</td>\n",
       "      <td>0.217280</td>\n",
       "      <td>0.219717</td>\n",
       "      <td>0.222325</td>\n",
       "      <td>0.218137</td>\n",
       "      <td>0.217582</td>\n",
       "      <td>0.220220</td>\n",
       "      <td>...</td>\n",
       "      <td>0.210830</td>\n",
       "      <td>0.212681</td>\n",
       "      <td>0.212113</td>\n",
       "      <td>0.210640</td>\n",
       "      <td>0.209894</td>\n",
       "      <td>0.211809</td>\n",
       "      <td>0.212654</td>\n",
       "      <td>0.209837</td>\n",
       "      <td>0.211909</td>\n",
       "      <td>0.210642</td>\n",
       "    </tr>\n",
       "    <tr>\n",
       "      <th>...</th>\n",
       "      <td>...</td>\n",
       "      <td>...</td>\n",
       "      <td>...</td>\n",
       "      <td>...</td>\n",
       "      <td>...</td>\n",
       "      <td>...</td>\n",
       "      <td>...</td>\n",
       "      <td>...</td>\n",
       "      <td>...</td>\n",
       "      <td>...</td>\n",
       "      <td>...</td>\n",
       "      <td>...</td>\n",
       "      <td>...</td>\n",
       "      <td>...</td>\n",
       "      <td>...</td>\n",
       "      <td>...</td>\n",
       "      <td>...</td>\n",
       "      <td>...</td>\n",
       "      <td>...</td>\n",
       "      <td>...</td>\n",
       "      <td>...</td>\n",
       "    </tr>\n",
       "    <tr>\n",
       "      <th>5750.0</th>\n",
       "      <td>NaN</td>\n",
       "      <td>NaN</td>\n",
       "      <td>NaN</td>\n",
       "      <td>NaN</td>\n",
       "      <td>NaN</td>\n",
       "      <td>NaN</td>\n",
       "      <td>NaN</td>\n",
       "      <td>NaN</td>\n",
       "      <td>NaN</td>\n",
       "      <td>NaN</td>\n",
       "      <td>...</td>\n",
       "      <td>NaN</td>\n",
       "      <td>NaN</td>\n",
       "      <td>NaN</td>\n",
       "      <td>NaN</td>\n",
       "      <td>NaN</td>\n",
       "      <td>NaN</td>\n",
       "      <td>NaN</td>\n",
       "      <td>NaN</td>\n",
       "      <td>NaN</td>\n",
       "      <td>NaN</td>\n",
       "    </tr>\n",
       "    <tr>\n",
       "      <th>6000.0</th>\n",
       "      <td>NaN</td>\n",
       "      <td>NaN</td>\n",
       "      <td>NaN</td>\n",
       "      <td>NaN</td>\n",
       "      <td>NaN</td>\n",
       "      <td>NaN</td>\n",
       "      <td>NaN</td>\n",
       "      <td>NaN</td>\n",
       "      <td>NaN</td>\n",
       "      <td>NaN</td>\n",
       "      <td>...</td>\n",
       "      <td>NaN</td>\n",
       "      <td>NaN</td>\n",
       "      <td>NaN</td>\n",
       "      <td>NaN</td>\n",
       "      <td>NaN</td>\n",
       "      <td>NaN</td>\n",
       "      <td>NaN</td>\n",
       "      <td>NaN</td>\n",
       "      <td>NaN</td>\n",
       "      <td>NaN</td>\n",
       "    </tr>\n",
       "    <tr>\n",
       "      <th>6250.0</th>\n",
       "      <td>NaN</td>\n",
       "      <td>NaN</td>\n",
       "      <td>NaN</td>\n",
       "      <td>NaN</td>\n",
       "      <td>NaN</td>\n",
       "      <td>NaN</td>\n",
       "      <td>NaN</td>\n",
       "      <td>NaN</td>\n",
       "      <td>NaN</td>\n",
       "      <td>NaN</td>\n",
       "      <td>...</td>\n",
       "      <td>NaN</td>\n",
       "      <td>NaN</td>\n",
       "      <td>NaN</td>\n",
       "      <td>NaN</td>\n",
       "      <td>NaN</td>\n",
       "      <td>NaN</td>\n",
       "      <td>NaN</td>\n",
       "      <td>NaN</td>\n",
       "      <td>NaN</td>\n",
       "      <td>NaN</td>\n",
       "    </tr>\n",
       "    <tr>\n",
       "      <th>6500.0</th>\n",
       "      <td>NaN</td>\n",
       "      <td>NaN</td>\n",
       "      <td>NaN</td>\n",
       "      <td>NaN</td>\n",
       "      <td>NaN</td>\n",
       "      <td>NaN</td>\n",
       "      <td>NaN</td>\n",
       "      <td>NaN</td>\n",
       "      <td>NaN</td>\n",
       "      <td>NaN</td>\n",
       "      <td>...</td>\n",
       "      <td>NaN</td>\n",
       "      <td>NaN</td>\n",
       "      <td>NaN</td>\n",
       "      <td>NaN</td>\n",
       "      <td>NaN</td>\n",
       "      <td>NaN</td>\n",
       "      <td>NaN</td>\n",
       "      <td>NaN</td>\n",
       "      <td>NaN</td>\n",
       "      <td>NaN</td>\n",
       "    </tr>\n",
       "    <tr>\n",
       "      <th>6750.0</th>\n",
       "      <td>NaN</td>\n",
       "      <td>NaN</td>\n",
       "      <td>NaN</td>\n",
       "      <td>NaN</td>\n",
       "      <td>NaN</td>\n",
       "      <td>NaN</td>\n",
       "      <td>NaN</td>\n",
       "      <td>NaN</td>\n",
       "      <td>NaN</td>\n",
       "      <td>NaN</td>\n",
       "      <td>...</td>\n",
       "      <td>NaN</td>\n",
       "      <td>NaN</td>\n",
       "      <td>NaN</td>\n",
       "      <td>NaN</td>\n",
       "      <td>NaN</td>\n",
       "      <td>NaN</td>\n",
       "      <td>NaN</td>\n",
       "      <td>NaN</td>\n",
       "      <td>NaN</td>\n",
       "      <td>NaN</td>\n",
       "    </tr>\n",
       "  </tbody>\n",
       "</table>\n",
       "<p>70 rows × 251 columns</p>\n",
       "</div>"
      ],
      "text/plain": [
       "time    1850-07-02 12:00:00  1851-07-02 12:00:00  1852-07-02 12:00:00  \\\n",
       "lev                                                                     \n",
       "0.0                0.218279             0.218734             0.221627   \n",
       "5.0                0.218355             0.218743             0.221662   \n",
       "10.0               0.218215             0.218527             0.221475   \n",
       "15.0               0.217955             0.218368             0.221162   \n",
       "20.0               0.217608             0.217843             0.220856   \n",
       "...                     ...                  ...                  ...   \n",
       "5750.0                  NaN                  NaN                  NaN   \n",
       "6000.0                  NaN                  NaN                  NaN   \n",
       "6250.0                  NaN                  NaN                  NaN   \n",
       "6500.0                  NaN                  NaN                  NaN   \n",
       "6750.0                  NaN                  NaN                  NaN   \n",
       "\n",
       "time    1853-07-02 12:00:00  1854-07-02 12:00:00  1855-07-02 12:00:00  \\\n",
       "lev                                                                     \n",
       "0.0                0.219263             0.218321             0.220219   \n",
       "5.0                0.219331             0.218320             0.220305   \n",
       "10.0               0.219214             0.218090             0.220156   \n",
       "15.0               0.219128             0.217814             0.219988   \n",
       "20.0               0.218966             0.217280             0.219717   \n",
       "...                     ...                  ...                  ...   \n",
       "5750.0                  NaN                  NaN                  NaN   \n",
       "6000.0                  NaN                  NaN                  NaN   \n",
       "6250.0                  NaN                  NaN                  NaN   \n",
       "6500.0                  NaN                  NaN                  NaN   \n",
       "6750.0                  NaN                  NaN                  NaN   \n",
       "\n",
       "time    1856-07-02 12:00:00  1857-07-02 12:00:00  1858-07-02 12:00:00  \\\n",
       "lev                                                                     \n",
       "0.0                0.222653             0.218416             0.217871   \n",
       "5.0                0.222679             0.218475             0.217950   \n",
       "10.0               0.222511             0.218373             0.217870   \n",
       "15.0               0.222407             0.218276             0.217754   \n",
       "20.0               0.222325             0.218137             0.217582   \n",
       "...                     ...                  ...                  ...   \n",
       "5750.0                  NaN                  NaN                  NaN   \n",
       "6000.0                  NaN                  NaN                  NaN   \n",
       "6250.0                  NaN                  NaN                  NaN   \n",
       "6500.0                  NaN                  NaN                  NaN   \n",
       "6750.0                  NaN                  NaN                  NaN   \n",
       "\n",
       "time    1859-07-02 12:00:00  ...  2091-07-02 12:00:00  2092-07-02 12:00:00  \\\n",
       "lev                          ...                                             \n",
       "0.0                0.220521  ...             0.211226             0.213183   \n",
       "5.0                0.220570  ...             0.211269             0.213195   \n",
       "10.0               0.220422  ...             0.211134             0.213016   \n",
       "15.0               0.220300  ...             0.211040             0.212839   \n",
       "20.0               0.220220  ...             0.210830             0.212681   \n",
       "...                     ...  ...                  ...                  ...   \n",
       "5750.0                  NaN  ...                  NaN                  NaN   \n",
       "6000.0                  NaN  ...                  NaN                  NaN   \n",
       "6250.0                  NaN  ...                  NaN                  NaN   \n",
       "6500.0                  NaN  ...                  NaN                  NaN   \n",
       "6750.0                  NaN  ...                  NaN                  NaN   \n",
       "\n",
       "time    2093-07-02 12:00:00  2094-07-02 12:00:00  2095-07-02 12:00:00  \\\n",
       "lev                                                                     \n",
       "0.0                0.212403             0.211265             0.210519   \n",
       "5.0                0.212419             0.211288             0.210560   \n",
       "10.0               0.212286             0.211084             0.210435   \n",
       "15.0               0.212206             0.210902             0.210322   \n",
       "20.0               0.212113             0.210640             0.209894   \n",
       "...                     ...                  ...                  ...   \n",
       "5750.0                  NaN                  NaN                  NaN   \n",
       "6000.0                  NaN                  NaN                  NaN   \n",
       "6250.0                  NaN                  NaN                  NaN   \n",
       "6500.0                  NaN                  NaN                  NaN   \n",
       "6750.0                  NaN                  NaN                  NaN   \n",
       "\n",
       "time    2096-07-02 12:00:00  2097-07-02 12:00:00  2098-07-02 12:00:00  \\\n",
       "lev                                                                     \n",
       "0.0                0.212110             0.213068             0.209254   \n",
       "5.0                0.212141             0.213148             0.209387   \n",
       "10.0               0.211963             0.213082             0.209561   \n",
       "15.0               0.211860             0.212991             0.209823   \n",
       "20.0               0.211809             0.212654             0.209837   \n",
       "...                     ...                  ...                  ...   \n",
       "5750.0                  NaN                  NaN                  NaN   \n",
       "6000.0                  NaN                  NaN                  NaN   \n",
       "6250.0                  NaN                  NaN                  NaN   \n",
       "6500.0                  NaN                  NaN                  NaN   \n",
       "6750.0                  NaN                  NaN                  NaN   \n",
       "\n",
       "time    2099-07-02 12:00:00  2100-07-02 12:00:00  \n",
       "lev                                               \n",
       "0.0                0.212315             0.210894  \n",
       "5.0                0.212345             0.210942  \n",
       "10.0               0.212121             0.210806  \n",
       "15.0               0.211992             0.210731  \n",
       "20.0               0.211909             0.210642  \n",
       "...                     ...                  ...  \n",
       "5750.0                  NaN                  NaN  \n",
       "6000.0                  NaN                  NaN  \n",
       "6250.0                  NaN                  NaN  \n",
       "6500.0                  NaN                  NaN  \n",
       "6750.0                  NaN                  NaN  \n",
       "\n",
       "[70 rows x 251 columns]"
      ]
     },
     "execution_count": 17,
     "metadata": {},
     "output_type": "execute_result"
    }
   ],
   "source": [
    "data"
   ]
  },
  {
   "cell_type": "markdown",
   "metadata": {},
   "source": [
    "# 4. Plot dataset"
   ]
  },
  {
   "cell_type": "code",
   "execution_count": 18,
   "metadata": {},
   "outputs": [],
   "source": [
    "y = -data.index.values\n",
    "x = data.columns.values\n",
    "X,Y = np.meshgrid(x,y)"
   ]
  },
  {
   "cell_type": "code",
   "execution_count": 19,
   "metadata": {},
   "outputs": [],
   "source": [
    "cbar_text = dset.attrs['variable_id']\n",
    "cbar_units = eval('dset.' + dset.attrs['variable_id'] + '.attrs[\\'units\\']')\n",
    "if cbar_units != '1':\n",
    "    cbar_text = cbar_text + ' [' + cbar_units + ']'\n",
    "title_text = eval('dset.' + dset.attrs['variable_id'] + '.attrs[\\'long_name\\']') + ' : {0:7.2f} N, {1:7.2f} E : {2!s}'.format(lat_grd,lon_grd,title_label)"
   ]
  },
  {
   "cell_type": "code",
   "execution_count": 20,
   "metadata": {},
   "outputs": [
    {
     "data": {
      "text/plain": [
       "Text(0.5,1,'Dissolved Oxygen Concentration :  -23.24 N,   11.50 E : hist+ssp585')"
      ]
     },
     "execution_count": 20,
     "metadata": {},
     "output_type": "execute_result"
    },
    {
     "data": {
      "image/png": "[encoded data removed]",
      "text/plain": [
       "<Figure size 960x720 with 2 Axes>"
      ]
     },
     "metadata": {},
     "output_type": "display_data"
    }
   ],
   "source": [
    "plt.figure(figsize=(8, 6), dpi=120, facecolor='w', edgecolor='k')\n",
    "plt.contourf(X, Y, data, 10, cmap='plasma')\n",
    "cbar = plt.colorbar()\n",
    "cbar.set_label(cbar_text)\n",
    "plt.xlabel('Time')\n",
    "plt.ylabel('Depth [m]')\n",
    "plt.title(title_text)"
   ]
  },
  {
   "cell_type": "code",
   "execution_count": 21,
   "metadata": {},
   "outputs": [
    {
     "data": {
      "text/plain": [
       "Text(0.5,1,'Dissolved Oxygen Concentration :  -23.24 N,   11.50 E : hist+ssp585')"
      ]
     },
     "execution_count": 21,
     "metadata": {},
     "output_type": "execute_result"
    },
    {
     "data": {
      "image/png": "[encoded data removed]",
      "text/plain": [
       "<Figure size 960x720 with 2 Axes>"
      ]
     },
     "metadata": {},
     "output_type": "display_data"
    }
   ],
   "source": [
    "plt.figure(figsize=(8, 6), dpi=120, facecolor='w', edgecolor='k')\n",
    "plt.contourf(X, Y, data, 10, cmap='plasma')\n",
    "plt.ylim(-1000.0 , 0.0)\n",
    "cbar = plt.colorbar()\n",
    "cbar.set_label(cbar_text)\n",
    "plt.xlabel('Time')\n",
    "plt.ylabel('Depth [m]')\n",
    "plt.title(title_text)"
   ]
  },
  {
   "cell_type": "code",
   "execution_count": null,
   "metadata": {},
   "outputs": [],
   "source": []
  }
 ],
 "metadata": {
  "kernelspec": {
   "display_name": "Python 3",
   "language": "python",
   "name": "python3"
  },
  "language_info": {
   "codemirror_mode": {
    "name": "ipython",
    "version": 3
   },
   "file_extension": ".py",
   "mimetype": "text/x-python",
   "name": "python",
   "nbconvert_exporter": "python",
   "pygments_lexer": "ipython3",
   "version": "3.7.8"
  }
 },
 "nbformat": 4,
 "nbformat_minor": 4
}
